{
 "cells": [
  {
   "cell_type": "markdown",
   "metadata": {},
   "source": [
    "# Vector fields\n",
    "* Most code taken from workshop 1, \"intro to coppelia part 2\"\n",
    "* Run in workshop3.ttt"
   ]
  },
  {
   "cell_type": "code",
   "execution_count": 3,
   "metadata": {},
   "outputs": [],
   "source": [
    "# had to add these imports to be able to plot the environment\n",
    "import matplotlib.pyplot as plt\n",
    "import numpy as np"
   ]
  },
  {
   "cell_type": "markdown",
   "metadata": {},
   "source": [
    "# Plotting the environment as a graph\n",
    "* I did this before anything else cause I figured this was the best place for it."
   ]
  },
  {
   "cell_type": "code",
   "execution_count": 35,
   "metadata": {},
   "outputs": [],
   "source": [
    "# the very first thing I did was find the center of each cylinder, and their radii;\n",
    "# That way, I could plot the locations.  I also found the robot's initial location,\n",
    "# and the goal's location.\n",
    "\n",
    "# I made an array with the center of every cylinder; since I'm only plotting them,\n",
    "# order doesn't particularly matter.  Also I checked the cylinders, and their radii are\n",
    "# all the same, 0.5, so I didn't bother writing down each individual one.\n",
    "cylinder_positions = [[ 2.425,  4.075], [-0.525,  6.300], [ 4.400,  0.875], [-1.775,  2.100],\n",
    "                      [-5.125,  3.425], [-5.800, -0.975], [ 2.825, -4.850], [ 7.275, -7.750]]\n",
    "\n",
    "# I made an array with the corners of each box.  It was a headache, but it saved me\n",
    "# some trouble in terms of trying to plot the boxes based on their centers.\n",
    "# For the diagonal boxes I went a little bigger than reality, because I couldn't quite\n",
    "# get the disk I was using on the exact corner.\n",
    "            #        BL,               TL,               TR,          BR\n",
    "box_corners = [[[ 9.425,  5.225], [ 9.425,  4.225], [ 5.425,  4.225], [ 5.425,  5.225]], # box 1\n",
    "               [[-4.700,  6.900], [-4.700,  5.900], [-8.700,  5.900], [-8.700,  6.900]], # box 2\n",
    "               [[ 4.600, -0.900], [ 3.950, -1.700], [ 0.850,  0.900], [ 1.500,  1.700]], # box 3 (NOT ACCURATE)\n",
    "               [[ 0.975, -1.000], [ 0.975, -2.000], [-3.025, -2.000], [-3.025, -1.000]], # box 4\n",
    "               [[-3.150, -6.750], [-3.675, -7.650], [-7.150, -5.650], [-6.650, -4.725]]] # box 5 (NOT ACCURATE)\n",
    "\n",
    "robot_pos = [ 7.625,  8.550]\n",
    "goal_pos =  [-7.425, -7.925]\n"
   ]
  },
  {
   "cell_type": "markdown",
   "metadata": {},
   "source": [
    "# Plots"
   ]
  },
  {
   "cell_type": "code",
   "execution_count": 36,
   "metadata": {},
   "outputs": [
    {
     "data": {
      "image/png": "[encoded data removed]",
      "text/plain": [
       "<Figure size 432x288 with 1 Axes>"
      ]
     },
     "metadata": {
      "needs_background": "light"
     },
     "output_type": "display_data"
    }
   ],
   "source": [
    "plt.plot(robot_pos[0], robot_pos[1], 'bx') # robot position\n",
    "plt.plot(goal_pos[0], goal_pos[1], 'go')   # goal position\n",
    "for box in box_corners:\n",
    "    plt.plot([box[0][0], box[1][0], box[2][0], box[3][0], box[0][0]], [box[0][1], box[1][1], box[2][1], box[3][1], box[0][1]], 'r-')\n",
    "\n",
    "fig = plt.gcf()\n",
    "ax = fig.gca()\n",
    "for cyl in cylinder_positions:\n",
    "    cylinder = plt.Circle((cyl[0], cyl[1]), 0.5, color='r')\n",
    "    ax.add_artist(cylinder)\n",
    "    "
   ]
  },
  {
   "cell_type": "markdown",
   "metadata": {},
   "source": [
    "# Add forces\n",
    "* taken from the slides"
   ]
  },
  {
   "cell_type": "code",
   "execution_count": 37,
   "metadata": {},
   "outputs": [],
   "source": [
    "# Potential function\n",
    "def force_goal(x, y, goal):\n",
    "    goal_x, goal_y, k_goal = goal\n",
    "    Fx_goal, Fy_goal = k_goal * (goal_x - x), k_goal *(goal_y - y)\n",
    "    return Fx_goal, Fy_goal\n",
    "def force_obstacle(x, y, obstacle):\n",
    "    (obs_x, obs_y, k_obs) = obstacle\n",
    "    dist_x, dist_y = x - obs_x, y - obs_y\n",
    "    dist_obs = np.hypot(dist_x, dist_y)\n",
    "    Fx_obs = (dist_x / dist_obs) * k_obs / dist_obs ** 3\n",
    "    Fy_obs = (dist_y / dist_obs) * k_obs / dist_obs ** 3\n",
    "\n",
    "    return Fx_obs, Fy_obs\n",
    "\n",
    "def total_force(x, y, goal, obstacles):\n",
    "    Fx, Fy = force_goal(x, y, goal)\n",
    "    \n",
    "    for obs in obstacles:\n",
    "        Fo_x, Fo_y = force_obstacle(x, y, obs)\n",
    "        Fx += Fo_x\n",
    "        Fy += Fo_y\n",
    "    return Fx, Fy\n",
    "\n",
    "def plot_vector_field(fmax = .15):\n",
    "    X, Y = np.meshgrid(np.arange(0, 6.5, .2), np.arange(0, 4.5, .2))\n",
    "\n",
    "    # Vector field of the forces\n",
    "    Fx, Fy = total_force(X, Y, goal, obstacles)\n",
    "\n",
    "    # For visualization\n",
    "    F_m = np.hypot(Fx, Fy)\n",
    "    Fx[F_m > fmax], Fy[F_m > fmax] = None, None\n",
    "    # Plot\n",
    "    # quiver(X, Y, Fx, Fy,  F_m, color='0.4', scale=None)\n",
    "    ax.quiver(X, Y, Fx, Fy, color='0.4')\n",
    "\n"
   ]
  },
  {
   "cell_type": "code",
   "execution_count": 40,
   "metadata": {},
   "outputs": [
    {
     "data": {
      "image/png": "[encoded data removed]",
      "text/plain": [
       "<Figure size 432x288 with 1 Axes>"
      ]
     },
     "metadata": {
      "needs_background": "light"
     },
     "output_type": "display_data"
    }
   ],
   "source": [
    "def simulate(q, goal, obstacles, num_steps=200, delta_time=1.9):\n",
    "    trajectory = []\n",
    "    for i in range(num_steps):\n",
    "        force = total_force(q[0], q[1], goal, obstacles)\n",
    "        # Robot velocity follows the force vector\n",
    "        vel = np.array(force)\n",
    "        # Integrate\n",
    "        q += vel * delta_time\n",
    "        trajectory.append(np.copy(q))\n",
    "\n",
    "    return np.array(trajectory)\n",
    "\n",
    "# Goal\n",
    "goal = [-7.425, -7.925, 0.02]\n",
    "\n",
    "# Obstacles (x, y, k), where k is the rejection multiplier\n",
    "obstacles = [[ 9.425,  5.225, 0.2],\n",
    "             [ 9.425,  4.225, 0.2],\n",
    "             [ 5.425,  4.225, 0.2],\n",
    "             [ 5.425,  5.225, 0.2], # box 1\n",
    "             [-4.700,  6.900, 0.2],\n",
    "             [-4.700,  5.900, 0.2],\n",
    "             [-8.700,  5.900, 0.2],\n",
    "             [-8.700,  6.900, 0.2], # box 2\n",
    "             [ 4.600, -0.900, 0.2],\n",
    "             [ 3.950, -1.700, 0.2],\n",
    "             [ 0.850,  0.900, 0.2],\n",
    "             [ 1.500,  1.700, 0.2], # box 3 (NOT ACCURATE)\n",
    "             [ 0.975, -1.000, 1.5], # BL 4\n",
    "             [ 0.975, -2.000, 1.5], # TL 4\n",
    "             [-3.025, -2.000, 0.2], # TR 4\n",
    "             [-3.025, -1.000, 0.2], # BR 4 box 4\n",
    "             [-3.150, -6.750, 1.5],\n",
    "             [-3.675, -7.650, 0.5],\n",
    "             [-7.150, -5.650, 0.02],\n",
    "             [-6.650, -4.725, 0.02], # box 5 (NOT ACCURATE)\n",
    "             [ 2.425,  4.075, 0.5],\n",
    "             [-0.525,  6.300, 0.02],\n",
    "             [ 4.400,  0.875, 0.02],\n",
    "             [-1.775,  2.100, 0.2],\n",
    "             [-5.125,  3.425, 0.02],\n",
    "             [-5.800, -0.975, 0.02],\n",
    "             [ 2.825, -4.850, 0.02],\n",
    "             [ 7.275, -7.750, 0.2]]\n",
    "\n",
    "# Initial location\n",
    "q = np.array(( 7.625,  8.550))\n",
    "\n",
    "# Shoe result\n",
    "trajectory = simulate(q, goal, obstacles,num_steps=220, delta_time=1.)\n",
    "plt.plot(trajectory[:,0], trajectory[:,1], 'r--')\n",
    "plt.plot(goal[0], goal[1], 'yx')\n",
    "plot_vector_field()"
   ]
  },
  {
   "cell_type": "markdown",
   "metadata": {},
   "source": [
    "##### import sim\n",
    "%pylab inline"
   ]
  },
  {
   "cell_type": "markdown",
   "metadata": {},
   "source": [
    "### Check if python is connecting to Coppelia"
   ]
  },
  {
   "cell_type": "code",
   "execution_count": 80,
   "metadata": {},
   "outputs": [
    {
     "name": "stdout",
     "output_type": "stream",
     "text": [
      "Connected\n",
      "Simulation time in milliseconds:  0\n",
      "Omnirob is at [x,y,z]= [7.624998569488525, 8.549997329711914, 0.35249894857406616]\n",
      "Disconnected\n"
     ]
    }
   ],
   "source": [
    "sim.simxFinish(-1)  # Close opened connections\n",
    "clientID = sim.simxStart('127.0.0.1', 19999, True, True, 5000, 5)  # Connect to CoppeliaSim\n",
    "\n",
    "if clientID != -1:\n",
    "    print('Connected')\n",
    "\n",
    "    # Now try to retrieve data in a blocking fashion (i.e. a service call):\n",
    "    res, objs = sim.simxGetObjects(clientID, sim.sim_handle_all, sim.simx_opmode_blocking)\n",
    "\n",
    "    print('Simulation time in milliseconds: ', sim.simxGetLastCmdTime(clientID))\n",
    "    \n",
    "    # Get Object position\n",
    "    name = 'Omnirob'\n",
    "    err_code, cuboid = sim.simxGetObjectHandle(clientID, name, sim.simx_opmode_blocking)\n",
    "    res, position = sim.simxGetObjectPosition(clientID, cuboid, -1, sim.simx_opmode_blocking)        \n",
    "    print('Omnirob is at [x,y,z]=', position)\n",
    "    \n",
    "    # Now close the connection to CoppeliaSim:\n",
    "    sim.simxGetPingTime(clientID)\n",
    "    sim.simxFinish(clientID)\n",
    "    print('Disconnected')\n",
    "else:\n",
    "    print('Failed connecting to remote API server')\n"
   ]
  },
  {
   "cell_type": "markdown",
   "metadata": {},
   "source": [
    "# Robot"
   ]
  },
  {
   "cell_type": "code",
   "execution_count": 81,
   "metadata": {},
   "outputs": [],
   "source": [
    "class robot():\n",
    "    \n",
    "    def __init__(self, frame_name, motor_names=[], client_id=0):  \n",
    "        # If there is an existing connection\n",
    "        if client_id:\n",
    "                self.client_id = client_id\n",
    "        else:\n",
    "            self.client_id = self.open_connection()\n",
    "            \n",
    "        self.motors = self._get_handlers(motor_names) \n",
    "        \n",
    "        # Robot frame\n",
    "        self.frame =  self._get_handler(frame_name)\n",
    "            \n",
    "        \n",
    "    def open_connection(self):\n",
    "        sim.simxFinish(-1)  # just in case, close all opened connections\n",
    "        self.client_id = sim.simxStart('127.0.0.1', 19999, True, True, 5000, 5)  # Connect to CoppeliaSim \n",
    "        \n",
    "        if clientID != -1:\n",
    "            print('Robot connected')\n",
    "        else:\n",
    "            print('Connection failed')\n",
    "        return clientID\n",
    "        \n",
    "    def close_connection(self):    \n",
    "        sim.simxGetPingTime(self.client_id)  # Before closing the connection to CoppeliaSim, make sure that the last command sent out had time to arrive.\n",
    "        sim.simxFinish(self.client_id)  # Now close the connection to CoppeliaSim:\n",
    "        print('Connection closed')\n",
    "    \n",
    "    def isConnected(self):\n",
    "        c,result = sim.simxGetPingTime(self.client_id)\n",
    "        # Return true if the robot is connected\n",
    "        return result > 0         \n",
    "        \n",
    "    def _get_handler(self, name):\n",
    "        err_code, handler = sim.simxGetObjectHandle(self.client_id, name, sim.simx_opmode_blocking)\n",
    "        return handler\n",
    "    \n",
    "    def _get_handlers(self, names):\n",
    "        handlers = []\n",
    "        for name in names:\n",
    "            handler = self._get_handler(name)\n",
    "            handlers.append(handler)\n",
    "        \n",
    "        return handlers\n",
    "\n",
    "    def send_motor_velocities(self, vels):\n",
    "        for motor, vel in zip(self.motors, vels):\n",
    "            err_code = sim.simxSetJointTargetVelocity(self.client_id, \n",
    "                                                      motor, vel, sim.simx_opmode_streaming)      \n",
    "            \n",
    "    def set_position(self, position, relative_object=-1):\n",
    "        if relative_object != -1:\n",
    "            relative_object = self._get_handler(relative_object)        \n",
    "        sim.simxSetObjectPosition(clientID, self.frame, relative_object, position, sim.simx_opmode_oneshot)\n",
    "        \n",
    "    def simtime(self):\n",
    "        return sim.simxGetLastCmdTime(self.client_id)\n",
    "    \n",
    "    def get_position(self, relative_object=-1):\n",
    "        # Get position relative to an object, -1 for global frame\n",
    "        if relative_object != -1:\n",
    "            relative_object = self._get_handler(relative_object)\n",
    "        res, position = sim.simxGetObjectPosition(self.client_id, self.frame, relative_object, sim.simx_opmode_blocking)        \n",
    "        return array(position)\n",
    "    \n",
    "    def get_object_position(self, object_name):\n",
    "        # Get Object position in the world frame\n",
    "        err_code, object_h = sim.simxGetObjectHandle(self.client_id, object_name, sim.simx_opmode_blocking)\n",
    "        res, position = sim.simxGetObjectPosition(self.client_id, object_h, -1, sim.simx_opmode_blocking)\n",
    "        return array(position)\n",
    "    \n",
    "    def get_object_relative_position(self, object_name):        \n",
    "        # Get Object position in the robot frame\n",
    "        err_code, object_h = sim.simxGetObjectHandle(self.client_id, object_name, sim.simx_opmode_blocking)\n",
    "        res, position = sim.simxGetObjectPosition(self.client_id, object_h, self.frame, sim.simx_opmode_blocking)\n",
    "        return array(position)"
   ]
  },
  {
   "cell_type": "code",
   "execution_count": 82,
   "metadata": {},
   "outputs": [
    {
     "name": "stdout",
     "output_type": "stream",
     "text": [
      "Robot connected\n",
      "Connection closed\n"
     ]
    }
   ],
   "source": [
    "# Joint names in coppelia for KUKA omnidirectional robot\n",
    "motor_names = ['Omnirob_FLwheel_motor', 'Omnirob_FRwheel_motor', 'Omnirob_RRwheel_motor', 'Omnirob_RLwheel_motor']\n",
    "\n",
    "\n",
    "r = robot('Omnirob', motor_names)  # Create an instance of our robot\n",
    "\n",
    "# Move the robot in a specific direction\n",
    "vx = 0\n",
    "vy = 0\n",
    "\n",
    "r.send_motor_velocities([-vy - vx, vy - vx, vy + vx, -vy + vx])\n",
    "\n",
    "r.close_connection()  # End"
   ]
  },
  {
   "cell_type": "markdown",
   "metadata": {},
   "source": [
    "# P-Control"
   ]
  },
  {
   "cell_type": "code",
   "execution_count": 62,
   "metadata": {
    "scrolled": true
   },
   "outputs": [
    {
     "name": "stdout",
     "output_type": "stream",
     "text": [
      "Robot connected\n",
      "Robot position: (7.62, 8.55) \n",
      "Desired position: (0.40, 8.05) \n",
      "Relative position: (-7.22, -0.50) \n"
     ]
    },
    {
     "ename": "KeyboardInterrupt",
     "evalue": "",
     "output_type": "error",
     "traceback": [
      "\u001b[1;31m---------------------------------------------------------------------------\u001b[0m",
      "\u001b[1;31mKeyboardInterrupt\u001b[0m                         Traceback (most recent call last)",
      "\u001b[1;32m<ipython-input-62-06515674e664>\u001b[0m in \u001b[0;36m<module>\u001b[1;34m\u001b[0m\n\u001b[0;32m     20\u001b[0m     \u001b[1;31m# Sensing\u001b[0m\u001b[1;33m\u001b[0m\u001b[1;33m\u001b[0m\u001b[1;33m\u001b[0m\u001b[0m\n\u001b[0;32m     21\u001b[0m     \u001b[0mrobot_position\u001b[0m \u001b[1;33m=\u001b[0m \u001b[0mr\u001b[0m\u001b[1;33m.\u001b[0m\u001b[0mget_position\u001b[0m\u001b[1;33m(\u001b[0m\u001b[1;33m)\u001b[0m\u001b[1;33m\u001b[0m\u001b[1;33m\u001b[0m\u001b[0m\n\u001b[1;32m---> 22\u001b[1;33m     \u001b[0mdesired_position\u001b[0m \u001b[1;33m=\u001b[0m \u001b[0mr\u001b[0m\u001b[1;33m.\u001b[0m\u001b[0mget_object_position\u001b[0m\u001b[1;33m(\u001b[0m\u001b[1;34m'Sphere1'\u001b[0m\u001b[1;33m)\u001b[0m\u001b[1;33m\u001b[0m\u001b[1;33m\u001b[0m\u001b[0m\n\u001b[0m\u001b[0;32m     23\u001b[0m \u001b[1;33m\u001b[0m\u001b[0m\n\u001b[0;32m     24\u001b[0m     \u001b[1;31m# P control\u001b[0m\u001b[1;33m\u001b[0m\u001b[1;33m\u001b[0m\u001b[1;33m\u001b[0m\u001b[0m\n",
      "\u001b[1;32m<ipython-input-60-d7b557a2ff44>\u001b[0m in \u001b[0;36mget_object_position\u001b[1;34m(self, object_name)\u001b[0m\n\u001b[0;32m     68\u001b[0m     \u001b[1;32mdef\u001b[0m \u001b[0mget_object_position\u001b[0m\u001b[1;33m(\u001b[0m\u001b[0mself\u001b[0m\u001b[1;33m,\u001b[0m \u001b[0mobject_name\u001b[0m\u001b[1;33m)\u001b[0m\u001b[1;33m:\u001b[0m\u001b[1;33m\u001b[0m\u001b[1;33m\u001b[0m\u001b[0m\n\u001b[0;32m     69\u001b[0m         \u001b[1;31m# Get Object position in the world frame\u001b[0m\u001b[1;33m\u001b[0m\u001b[1;33m\u001b[0m\u001b[1;33m\u001b[0m\u001b[0m\n\u001b[1;32m---> 70\u001b[1;33m         \u001b[0merr_code\u001b[0m\u001b[1;33m,\u001b[0m \u001b[0mobject_h\u001b[0m \u001b[1;33m=\u001b[0m \u001b[0msim\u001b[0m\u001b[1;33m.\u001b[0m\u001b[0msimxGetObjectHandle\u001b[0m\u001b[1;33m(\u001b[0m\u001b[0mself\u001b[0m\u001b[1;33m.\u001b[0m\u001b[0mclient_id\u001b[0m\u001b[1;33m,\u001b[0m \u001b[0mobject_name\u001b[0m\u001b[1;33m,\u001b[0m \u001b[0msim\u001b[0m\u001b[1;33m.\u001b[0m\u001b[0msimx_opmode_blocking\u001b[0m\u001b[1;33m)\u001b[0m\u001b[1;33m\u001b[0m\u001b[1;33m\u001b[0m\u001b[0m\n\u001b[0m\u001b[0;32m     71\u001b[0m         \u001b[0mres\u001b[0m\u001b[1;33m,\u001b[0m \u001b[0mposition\u001b[0m \u001b[1;33m=\u001b[0m \u001b[0msim\u001b[0m\u001b[1;33m.\u001b[0m\u001b[0msimxGetObjectPosition\u001b[0m\u001b[1;33m(\u001b[0m\u001b[0mself\u001b[0m\u001b[1;33m.\u001b[0m\u001b[0mclient_id\u001b[0m\u001b[1;33m,\u001b[0m \u001b[0mobject_h\u001b[0m\u001b[1;33m,\u001b[0m \u001b[1;33m-\u001b[0m\u001b[1;36m1\u001b[0m\u001b[1;33m,\u001b[0m \u001b[0msim\u001b[0m\u001b[1;33m.\u001b[0m\u001b[0msimx_opmode_blocking\u001b[0m\u001b[1;33m)\u001b[0m\u001b[1;33m\u001b[0m\u001b[1;33m\u001b[0m\u001b[0m\n\u001b[0;32m     72\u001b[0m         \u001b[1;32mreturn\u001b[0m \u001b[0marray\u001b[0m\u001b[1;33m(\u001b[0m\u001b[0mposition\u001b[0m\u001b[1;33m)\u001b[0m\u001b[1;33m\u001b[0m\u001b[1;33m\u001b[0m\u001b[0m\n",
      "\u001b[1;32m~\\Desktop\\CSE360-MobileRobotics\\coppelia\\sim.py\u001b[0m in \u001b[0;36msimxGetObjectHandle\u001b[1;34m(clientID, objectName, operationMode)\u001b[0m\n\u001b[0;32m    276\u001b[0m     \u001b[1;32mif\u001b[0m \u001b[1;33m(\u001b[0m\u001b[0msys\u001b[0m\u001b[1;33m.\u001b[0m\u001b[0mversion_info\u001b[0m\u001b[1;33m[\u001b[0m\u001b[1;36m0\u001b[0m\u001b[1;33m]\u001b[0m \u001b[1;33m==\u001b[0m \u001b[1;36m3\u001b[0m\u001b[1;33m)\u001b[0m \u001b[1;32mand\u001b[0m \u001b[1;33m(\u001b[0m\u001b[0mtype\u001b[0m\u001b[1;33m(\u001b[0m\u001b[0mobjectName\u001b[0m\u001b[1;33m)\u001b[0m \u001b[1;32mis\u001b[0m \u001b[0mstr\u001b[0m\u001b[1;33m)\u001b[0m\u001b[1;33m:\u001b[0m\u001b[1;33m\u001b[0m\u001b[1;33m\u001b[0m\u001b[0m\n\u001b[0;32m    277\u001b[0m         \u001b[0mobjectName\u001b[0m\u001b[1;33m=\u001b[0m\u001b[0mobjectName\u001b[0m\u001b[1;33m.\u001b[0m\u001b[0mencode\u001b[0m\u001b[1;33m(\u001b[0m\u001b[1;34m'utf-8'\u001b[0m\u001b[1;33m)\u001b[0m\u001b[1;33m\u001b[0m\u001b[1;33m\u001b[0m\u001b[0m\n\u001b[1;32m--> 278\u001b[1;33m     \u001b[1;32mreturn\u001b[0m \u001b[0mc_GetObjectHandle\u001b[0m\u001b[1;33m(\u001b[0m\u001b[0mclientID\u001b[0m\u001b[1;33m,\u001b[0m \u001b[0mobjectName\u001b[0m\u001b[1;33m,\u001b[0m \u001b[0mct\u001b[0m\u001b[1;33m.\u001b[0m\u001b[0mbyref\u001b[0m\u001b[1;33m(\u001b[0m\u001b[0mhandle\u001b[0m\u001b[1;33m)\u001b[0m\u001b[1;33m,\u001b[0m \u001b[0moperationMode\u001b[0m\u001b[1;33m)\u001b[0m\u001b[1;33m,\u001b[0m \u001b[0mhandle\u001b[0m\u001b[1;33m.\u001b[0m\u001b[0mvalue\u001b[0m\u001b[1;33m\u001b[0m\u001b[1;33m\u001b[0m\u001b[0m\n\u001b[0m\u001b[0;32m    279\u001b[0m \u001b[1;33m\u001b[0m\u001b[0m\n\u001b[0;32m    280\u001b[0m \u001b[1;32mdef\u001b[0m \u001b[0msimxGetVisionSensorImage\u001b[0m\u001b[1;33m(\u001b[0m\u001b[0mclientID\u001b[0m\u001b[1;33m,\u001b[0m \u001b[0msensorHandle\u001b[0m\u001b[1;33m,\u001b[0m \u001b[0moptions\u001b[0m\u001b[1;33m,\u001b[0m \u001b[0moperationMode\u001b[0m\u001b[1;33m)\u001b[0m\u001b[1;33m:\u001b[0m\u001b[1;33m\u001b[0m\u001b[1;33m\u001b[0m\u001b[0m\n",
      "\u001b[1;31mKeyboardInterrupt\u001b[0m: "
     ]
    }
   ],
   "source": [
    "'''\n",
    "I commented this out, in case I still need it.\n",
    "\n",
    "# Joint name in coppelia\n",
    "motor_names = ['Omnirob_FLwheel_motor', 'Omnirob_FRwheel_motor', 'Omnirob_RRwheel_motor', 'Omnirob_RLwheel_motor']\n",
    "r = robot('Omnirob', motor_names)  # Create an instance of our robot\n",
    "\n",
    "# Initial locations\n",
    "robot_position = r.get_position()\n",
    "print('Robot position: (%.2f, %.2f) '%(robot_position[0], robot_position[1]))\n",
    "\n",
    "desired_position = r.get_object_position('Sphere1')\n",
    "print('Desired position: (%.2f, %.2f) '%(desired_position[0], desired_position[1]))\n",
    "\n",
    "relative_position = r.get_object_relative_position('Sphere1')\n",
    "print('Relative position: (%.2f, %.2f) '%(relative_position[0], relative_position[1]))\n",
    "\n",
    "    \n",
    "# Time interval\n",
    "time_steps = linspace(0, 20, 100)\n",
    "\n",
    "for t in time_steps:\n",
    "    # Sensing\n",
    "    robot_position = r.get_position()\n",
    "    desired_position = r.get_object_position('Sphere1')\n",
    "         \n",
    "    # P control\n",
    "    u = 100 * (desired_position - robot_position)\n",
    "    \n",
    "    vx, vy, vz = u\n",
    "    r.send_motor_velocities([-vy - vx, vy - vx, vy + vx, -vy + vx])\n",
    "    \n",
    "    time.sleep(20/100)\n",
    "\n",
    "r.send_motor_velocities([0, 0, 0, 0])\n",
    "r.close_connection()  # End\n",
    "'''"
   ]
  },
  {
   "cell_type": "markdown",
   "metadata": {},
   "source": [
    "# Trajectory follower\n",
    "\n",
    "A {straight-line trajectory} is a function that describes a segment of a straight line in the Euclidean space that starts at a point $\\mathbf{p}_0$ at $t=0$ and ends at a point $\\mathbf{p}_f$ at time $t=t_f$. The equation that describes the trajectory is:\n",
    "\t\\begin{equation}\n",
    "\t\\mathbf{\\gamma}(t) = \\mathbf{a}_1 t + \\mathbf{a}_0,\n",
    "\t\\label{eq:line}\n",
    "\t\\end{equation}\n",
    "\twhere $\\mathbf{a}_1=\\frac{\\mathbf{p}_f - \\mathbf{p}_0}{t_f}$ and $\\mathbf{a}_0=\\mathbf{p}_0$, for $t\\in[0,t_f]$. \t"
   ]
  },
  {
   "cell_type": "code",
   "execution_count": 87,
   "metadata": {
    "scrolled": true
   },
   "outputs": [
    {
     "name": "stdout",
     "output_type": "stream",
     "text": [
      "Robot connected\n",
      "Robot position: (7.62, 8.55) \n",
      "Desired position: (0.40, 8.05) \n",
      "Relative position: (-7.22, -0.50) \n",
      "Robot connected\n",
      "Connection closed\n"
     ]
    }
   ],
   "source": [
    "# Joint name in coppelia\n",
    "motor_names = ['Omnirob_FLwheel_motor', 'Omnirob_FRwheel_motor', 'Omnirob_RRwheel_motor', 'Omnirob_RLwheel_motor']\n",
    "r = robot('Omnirob', motor_names)  # Create an instance of our robot\n",
    "\n",
    "# Initial locations\n",
    "robot_position = r.get_position()\n",
    "print('Robot position: (%.2f, %.2f) '%(robot_position[0], robot_position[1]))\n",
    "\n",
    "desired_position = r.get_object_position('Sphere1')\n",
    "print('Desired position: (%.2f, %.2f) '%(desired_position[0], desired_position[1]))\n",
    "\n",
    "relative_position = r.get_object_relative_position('Sphere1')\n",
    "print('Relative position: (%.2f, %.2f) '%(relative_position[0], relative_position[1]))\n",
    "\n",
    "\n",
    "# Virtual disk\n",
    "disk = robot('Disc', client_id=r.client_id)\n",
    "\n",
    "\n",
    "# Time duration\n",
    "tf = 5\n",
    "# Time interval\n",
    "time_steps = linspace(0, tf, 19)\n",
    "\n",
    "# I padded elements in these arrays with 0's, because my OCD kicked in real hard\n",
    "a0 = np.array([( 7.625,  8.55), ( 0.800,  8.05), ( 4.000,  6.225), ( 1.925,  2.225), \n",
    "               (-3.975,  0.00), (-3.575,  3.40), (-3.775,  5.200), (-8.000,  5.200),\n",
    "               (-7.000, -4.00), (-3.975, -6.15), (-3.975, -7.500), (-6.650, -8.500),\n",
    "               (-3.000, -4.15), ( 0.400, -3.30), ( 0.400, -7.750), ( 6.125, -6.150),\n",
    "               ( 0.400, -7.75), ( 0.400, -3.30)])\n",
    "\n",
    "a1 = np.array([(0.1,  0.0), (1.0,  0.00), (-0.2, -0.50), ( 0.5, -1.00),\n",
    "               (0.0,  1.0), (0.0,  1.00), (-0.5,  0.00), ( 0.0, -1.00),\n",
    "               (2.0,  0.0), (0.0, -1.00), (-0.5,  0.00), ( 1.0,  1.00),\n",
    "               (1.0, -1.0), (0.0, -1.00), ( 1.0,  0.05), (-1.0, -0.05),\n",
    "               (0.0,  1.0), (1.0,  0.05)])\n",
    "\n",
    "a2 = np.array([(-1.107000000000000000, -0.060000000000000000),\n",
    "               ( 0.023999999999999987, -0.119000000000000200),\n",
    "               (-0.268999999999999960, -0.079999999999999860),\n",
    "               (-0.908000000000000100, -0.067000000000000030),\n",
    "               ( 0.047999999999999970, -0.192000000000000030),\n",
    "               ( 0.076000000000000080, -0.183999999999999900),\n",
    "               (-0.307000000000000050,  0.200000000000000000),\n",
    "               (-0.280000000000000000, -0.704000000000000100),\n",
    "               (-0.437000000000000060, -0.058000000000000114),\n",
    "               ( 0.100000000000000000,  0.238000000000000100),\n",
    "               (-0.321000000000000060, -0.320000000000000000),\n",
    "               (-0.161999999999999900,  0.321999999999999950),\n",
    "               ( 0.007999999999999972,  0.702000000000000200),\n",
    "               (-0.200000000000000000, -0.144000000000000040),\n",
    "               ( 0.487000000000000040,  0.181999999999999880),\n",
    "               (-0.287000000000000030, -0.371999999999999900),\n",
    "               (-0.200000000000000000,  0.124000000000000050),\n",
    "               ( 0.127999999999999970,  0.075999999999999940)])\n",
    "\n",
    "a3 = np.array([( 0.159600000000000000,  0.008000000000000000),\n",
    "               (-0.019200000000000002,  0.009200000000000017),\n",
    "               ( 0.045200000000000004,  0.003999999999999993),\n",
    "               ( 0.114400000000000000,  0.035600000000000000),\n",
    "               (-0.006399999999999999,  0.025600000000000000),\n",
    "               (-0.016800000000000006,  0.011200000000000003),\n",
    "               ( 0.047599999999999996, -0.040000000000000000),\n",
    "               ( 0.064000000000000000,  0.107200000000000000),\n",
    "               ( 0.031600000000000000, -0.005599999999999995),\n",
    "               (-0.019999999999999993, -0.018400000000000007),\n",
    "               ( 0.062800000000000010,  0.056000000000000000),\n",
    "               ( 0.021599999999999994, -0.069600000000000000),\n",
    "               (-0.014400000000000000, -0.093600000000000000),\n",
    "               ( 0.040000000000000000,  0.033200000000000000),\n",
    "               (-0.091600000000000000, -0.025599999999999994),\n",
    "               ( 0.051600000000000000,  0.063599999999999990),\n",
    "               ( 0.040000000000000000, -0.029200000000000004),\n",
    "               (-0.030400000000000000, -0.010799999999999997)])\n",
    "count = 0\n",
    "\n",
    "for i in range(size(a1)):\n",
    "    for t in time_steps:\n",
    "        if (count >= 18):\n",
    "            break\n",
    "        x_traj = a0[count][0] + (a1[count][0] * t) + (a2[count][0] * (t ** 2)) + (a3[count][0] * (t ** 3))\n",
    "        y_traj = a0[count][1] + (a1[count][1] * t) + (a2[count][1] * (t ** 2)) + (a3[count][1] * (t ** 3))\n",
    "        z_traj = 1\n",
    "        x_vel  = (a1[count][0] * t) + (a2[count][0] * (t ** 2)) + (a3[count][0] * (t ** 3))\n",
    "        y_vel  = (a1[count][1] * t) + (a2[count][1] * (t ** 2)) + (a3[count][1] * (t ** 3))\n",
    "        z_vel = 0\n",
    "\n",
    "        vel_traj = a1\n",
    "\n",
    "        disk.set_position((x_traj, y_traj, 1))\n",
    "\n",
    "        # Sensing\n",
    "        robot_position = r.get_position()\n",
    "\n",
    "\n",
    "\n",
    "        # Trajectory tracker\n",
    "        u = 10 * ([x_traj, y_traj, z_traj] - robot_position) + [x_vel, y_vel, z_vel]\n",
    "\n",
    "        vx, vy, vz = u\n",
    "        r.send_motor_velocities([-vy - vx, vy - vx, vy + vx, -vy + vx])\n",
    "\n",
    "\n",
    "\n",
    "        time.sleep(tf/500)\n",
    "    count += 1\n",
    "\n",
    "r.close_connection() "
   ]
  },
  {
   "cell_type": "code",
   "execution_count": 76,
   "metadata": {
    "pycharm": {
     "name": "#%%\n"
    }
   },
   "outputs": [
    {
     "name": "stdout",
     "output_type": "stream",
     "text": [
      "Robot connected\n",
      "Robot connected\n",
      "Robot position: (7.62, 8.55) \n",
      "Desired position: (0.40, 8.05) \n",
      "Relative position: (-7.22, -0.50) \n"
     ]
    },
    {
     "ename": "KeyboardInterrupt",
     "evalue": "",
     "output_type": "error",
     "traceback": [
      "\u001b[1;31m---------------------------------------------------------------------------\u001b[0m",
      "\u001b[1;31mKeyboardInterrupt\u001b[0m                         Traceback (most recent call last)",
      "\u001b[1;32m<ipython-input-76-5ac30ec8fef9>\u001b[0m in \u001b[0;36m<module>\u001b[1;34m\u001b[0m\n\u001b[0;32m     41\u001b[0m     \u001b[0mvx\u001b[0m\u001b[1;33m,\u001b[0m \u001b[0mvy\u001b[0m\u001b[1;33m,\u001b[0m \u001b[0mvz\u001b[0m \u001b[1;33m=\u001b[0m \u001b[0mu\u001b[0m\u001b[1;33m\u001b[0m\u001b[1;33m\u001b[0m\u001b[0m\n\u001b[0;32m     42\u001b[0m     \u001b[0mr\u001b[0m\u001b[1;33m.\u001b[0m\u001b[0msend_motor_velocities\u001b[0m\u001b[1;33m(\u001b[0m\u001b[1;33m[\u001b[0m\u001b[1;33m-\u001b[0m\u001b[0mvy\u001b[0m \u001b[1;33m-\u001b[0m \u001b[0mvx\u001b[0m\u001b[1;33m,\u001b[0m \u001b[0mvy\u001b[0m \u001b[1;33m-\u001b[0m \u001b[0mvx\u001b[0m\u001b[1;33m,\u001b[0m \u001b[0mvy\u001b[0m \u001b[1;33m+\u001b[0m \u001b[0mvx\u001b[0m\u001b[1;33m,\u001b[0m \u001b[1;33m-\u001b[0m\u001b[0mvy\u001b[0m \u001b[1;33m+\u001b[0m \u001b[0mvx\u001b[0m\u001b[1;33m]\u001b[0m\u001b[1;33m)\u001b[0m\u001b[1;33m\u001b[0m\u001b[1;33m\u001b[0m\u001b[0m\n\u001b[1;32m---> 43\u001b[1;33m     \u001b[0mtime\u001b[0m\u001b[1;33m.\u001b[0m\u001b[0msleep\u001b[0m\u001b[1;33m(\u001b[0m\u001b[0mtstep\u001b[0m\u001b[1;33m)\u001b[0m\u001b[1;33m\u001b[0m\u001b[1;33m\u001b[0m\u001b[0m\n\u001b[0m\u001b[0;32m     44\u001b[0m \u001b[1;33m\u001b[0m\u001b[0m\n\u001b[0;32m     45\u001b[0m \u001b[1;33m\u001b[0m\u001b[0m\n",
      "\u001b[1;31mKeyboardInterrupt\u001b[0m: "
     ]
    }
   ],
   "source": [
    "# Joint name in coppelia\n",
    "motor_names = ['Omnirob_FLwheel_motor', 'Omnirob_FRwheel_motor', 'Omnirob_RRwheel_motor', 'Omnirob_RLwheel_motor']\n",
    "r = robot('Omnirob', motor_names)  # Create an instance of our robot\n",
    "\n",
    "# Connect to the sphere that will be a reference\n",
    "ref_point = robot('Sphere11', client_id=r.client_id)\n",
    "\n",
    "# Initial locations\n",
    "robot_position = r.get_position()\n",
    "print('Robot position: (%.2f, %.2f) '%(robot_position[0], robot_position[1]))\n",
    "desired_position = r.get_object_position('Sphere1')\n",
    "print('Desired position: (%.2f, %.2f) '%(desired_position[0], desired_position[1]))\n",
    "relative_position = r.get_object_relative_position('Sphere1')\n",
    "print('Relative position: (%.2f, %.2f) '%(relative_position[0], relative_position[1]))\n",
    "\n",
    "\n",
    "tf = 10.\n",
    "tstep = 0.1\n",
    "a1 = (desired_position - robot_position) / tf\n",
    "a0 = robot_position\n",
    "\n",
    "\n",
    "\n",
    "# Time interval\n",
    "time_steps = linspace(0, tf, int(tf/tstep))\n",
    "\n",
    "for t in time_steps:\n",
    "    # Compute the trajectory\n",
    "    traj_point = a1*t + a0\n",
    "    vel_traj = a1\n",
    "    # Show the trajectory point\n",
    "    ref_point.set_position(traj_point)\n",
    "    \n",
    "    # Location sesing\n",
    "    robot_position = r.get_position()\n",
    "    \n",
    "    # drive the robot using the trajectory tracker\n",
    "    u = 0.5*(traj_point - robot_position) + vel_traj\n",
    "    \n",
    "    \n",
    "    vx, vy, vz = u\n",
    "    r.send_motor_velocities([-vy - vx, vy - vx, vy + vx, -vy + vx])\n",
    "    time.sleep(tstep)\n",
    "\n",
    "\n",
    "    \n",
    "r.send_motor_velocities([0, 0, 0, 0])\n",
    "\n",
    "r.close_connection()  # End"
   ]
  },
  {
   "cell_type": "code",
   "execution_count": null,
   "metadata": {},
   "outputs": [],
   "source": []
  },
  {
   "cell_type": "code",
   "execution_count": null,
   "metadata": {},
   "outputs": [],
   "source": []
  }
 ],
 "metadata": {
  "kernelspec": {
   "display_name": "Python 3",
   "language": "python",
   "name": "python3"
  },
  "language_info": {
   "codemirror_mode": {
    "name": "ipython",
    "version": 3
   },
   "file_extension": ".py",
   "mimetype": "text/x-python",
   "name": "python",
   "nbconvert_exporter": "python",
   "pygments_lexer": "ipython3",
   "version": "3.8.3"
  }
 },
 "nbformat": 4,
 "nbformat_minor": 4
}
